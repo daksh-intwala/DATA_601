{
 "cells": [
  {
   "cell_type": "markdown",
   "id": "c0ebd9ff",
   "metadata": {},
   "source": [
    "# Week11 Lab\n",
    "\n",
    "1. Scrape the information from the following website: https://www.scrapethissite.com/pages/simple/ \n",
    "show the values in a dataframe\n",
    "1. Save the data frame as a csv file. (You will be using it a part of your homework.)"
   ]
  },
  {
   "cell_type": "code",
   "execution_count": 1,
   "id": "8f868978",
   "metadata": {},
   "outputs": [],
   "source": [
    "import pandas as pd\n",
    "from bs4 import BeautifulSoup\n",
    "import requests"
   ]
  },
  {
   "cell_type": "code",
   "execution_count": 2,
   "id": "cb5683b5",
   "metadata": {},
   "outputs": [
    {
     "data": {
      "text/plain": [
       "True"
      ]
     },
     "execution_count": 2,
     "metadata": {},
     "output_type": "execute_result"
    }
   ],
   "source": [
    "response = requests.get('https://raw.githubusercontent.com/msaricaumbc/DS_Data/master/data.html')\n",
    "response.ok"
   ]
  },
  {
   "cell_type": "code",
   "execution_count": 3,
   "id": "2b33c38d",
   "metadata": {},
   "outputs": [
    {
     "data": {
      "text/plain": [
       "'<!doctype html>\\n<html lang=\"en\"> \\n <head> \\n  <meta charset=\"utf-8\"> \\n  <title>Countries of the World: A Simple Example | Scrape This Site | A public sandbox for learning web scraping</title> \\n  <link rel=\"icon\" type=\"image/png\" href=\"/static/images/scraper-icon.png\"> \\n  <meta name=\"viewport\" content=\"width=device-width, initial-scale=1.0\"> \\n  <meta name=\"description\" content=\"A single page that lists information about all the countries in the world. Good for those just get started with web scraping.\"> \\n  <link href=\"https://maxcdn.bootstrapcdn.com/bootstrap/3.3.5/css/bootstrap.min.css\" rel=\"stylesheet\" integrity=\"sha256-MfvZlkHCEqatNoGiOXveE8FIwMzZg4W85qfrfIFBfYc= sha512-dTfge/zgoMYpP7QbHy4gWMEGsbsdZeCXz7irItjcC3sPUFtf0kuFbDz/ixG7ArTxmDjLXDmezHubeNikyKGVyQ==\" crossorigin=\"anonymous\"> \\n  <link href=\"\\\\\\'https://fonts.googleapis.com/css?family=Lato:400,700\\\\\\'\" rel=\"\\\\\\'stylesheet\\\\\\'\" type=\"\\\\\\'text/css\\\\\\'\"> \\n  <link rel=\"stylesheet\" type=\"text/css\" href=\"/static/css/styles.css\"> \\n  <meta name=\"ro'"
      ]
     },
     "execution_count": 3,
     "metadata": {},
     "output_type": "execute_result"
    }
   ],
   "source": [
    "response.text[:1000]"
   ]
  },
  {
   "cell_type": "code",
   "execution_count": 4,
   "id": "624ec5e5",
   "metadata": {},
   "outputs": [],
   "source": [
    "html_doc = response.text"
   ]
  },
  {
   "cell_type": "code",
   "execution_count": 5,
   "id": "72bc1d16",
   "metadata": {},
   "outputs": [],
   "source": [
    "soup = BeautifulSoup(html_doc, 'html.parser')"
   ]
  },
  {
   "cell_type": "markdown",
   "id": "955ae659",
   "metadata": {},
   "source": [
    "## Solution Starts Here"
   ]
  },
  {
   "cell_type": "code",
   "execution_count": 6,
   "id": "4704e40c",
   "metadata": {},
   "outputs": [],
   "source": [
    "def create_df(soup_obj):\n",
    "    \n",
    "    #get target information block from the webpage\n",
    "    target_data = soup.find_all('div',{'class':'col-md-4 country'})\n",
    "    \n",
    "    #create empty dataframe\n",
    "    countries = pd.DataFrame(columns=['SrNo', 'country','capital','population','area'])\n",
    "    \n",
    "    #temp_dict package\n",
    "    temp_rec_dic = {'SrNo':0,'country':'', 'capital': '', 'population': None, 'area':None}\n",
    "    \n",
    "    #Clean and extract relevant info fromt the block\n",
    "    sr_no = 0\n",
    "    for i in target_data:\n",
    "        sr_no += 1\n",
    "        country, capital, population, area = '','',None, None \n",
    "\n",
    "        #Extracting information\n",
    "        country = i.find('h3').text.strip()\n",
    "        capital= i.find('span',{ \"class\":\"country-capital\"}).text.strip()\n",
    "        population = int(i.find('span',{ \"class\":\"country-population\"}).text.strip())\n",
    "        area = float(i.find('span',{ \"class\":\"country-area\"}).text.strip())\n",
    "\n",
    "        #Unkown values replacing with NAs\n",
    "        if population is None: population = \"NA\"\n",
    "        if area is None: area = 'NA'\n",
    "\n",
    "        #Packing info in a dictionary\n",
    "        temp_rec_dic.update({'SrNo':sr_no,'country':country, 'capital': capital, 'population': population, 'area':area})\n",
    "\n",
    "        #Adding record to the DataFrame\n",
    "        countries = countries.append(temp_rec_dic, ignore_index = True)\n",
    "    \n",
    "    return countries\n",
    "    "
   ]
  },
  {
   "cell_type": "code",
   "execution_count": 7,
   "id": "7b71205a",
   "metadata": {},
   "outputs": [],
   "source": [
    "world_countries = create_df(soup)"
   ]
  },
  {
   "cell_type": "code",
   "execution_count": 8,
   "id": "1f854fcf",
   "metadata": {},
   "outputs": [
    {
     "data": {
      "text/html": [
       "<div>\n",
       "<style scoped>\n",
       "    .dataframe tbody tr th:only-of-type {\n",
       "        vertical-align: middle;\n",
       "    }\n",
       "\n",
       "    .dataframe tbody tr th {\n",
       "        vertical-align: top;\n",
       "    }\n",
       "\n",
       "    .dataframe thead th {\n",
       "        text-align: right;\n",
       "    }\n",
       "</style>\n",
       "<table border=\"1\" class=\"dataframe\">\n",
       "  <thead>\n",
       "    <tr style=\"text-align: right;\">\n",
       "      <th></th>\n",
       "      <th>SrNo</th>\n",
       "      <th>country</th>\n",
       "      <th>capital</th>\n",
       "      <th>population</th>\n",
       "      <th>area</th>\n",
       "    </tr>\n",
       "  </thead>\n",
       "  <tbody>\n",
       "    <tr>\n",
       "      <th>0</th>\n",
       "      <td>1</td>\n",
       "      <td>Andorra</td>\n",
       "      <td>Andorra la Vella</td>\n",
       "      <td>84000</td>\n",
       "      <td>468.0</td>\n",
       "    </tr>\n",
       "    <tr>\n",
       "      <th>1</th>\n",
       "      <td>2</td>\n",
       "      <td>United Arab Emirates</td>\n",
       "      <td>Abu Dhabi</td>\n",
       "      <td>4975593</td>\n",
       "      <td>82880.0</td>\n",
       "    </tr>\n",
       "    <tr>\n",
       "      <th>2</th>\n",
       "      <td>3</td>\n",
       "      <td>Afghanistan</td>\n",
       "      <td>Kabul</td>\n",
       "      <td>29121286</td>\n",
       "      <td>647500.0</td>\n",
       "    </tr>\n",
       "    <tr>\n",
       "      <th>3</th>\n",
       "      <td>4</td>\n",
       "      <td>Antigua and Barbuda</td>\n",
       "      <td>St. John's</td>\n",
       "      <td>86754</td>\n",
       "      <td>443.0</td>\n",
       "    </tr>\n",
       "    <tr>\n",
       "      <th>4</th>\n",
       "      <td>5</td>\n",
       "      <td>Anguilla</td>\n",
       "      <td>The Valley</td>\n",
       "      <td>13254</td>\n",
       "      <td>102.0</td>\n",
       "    </tr>\n",
       "    <tr>\n",
       "      <th>...</th>\n",
       "      <td>...</td>\n",
       "      <td>...</td>\n",
       "      <td>...</td>\n",
       "      <td>...</td>\n",
       "      <td>...</td>\n",
       "    </tr>\n",
       "    <tr>\n",
       "      <th>245</th>\n",
       "      <td>246</td>\n",
       "      <td>Yemen</td>\n",
       "      <td>Sanaa</td>\n",
       "      <td>23495361</td>\n",
       "      <td>527970.0</td>\n",
       "    </tr>\n",
       "    <tr>\n",
       "      <th>246</th>\n",
       "      <td>247</td>\n",
       "      <td>Mayotte</td>\n",
       "      <td>Mamoudzou</td>\n",
       "      <td>159042</td>\n",
       "      <td>374.0</td>\n",
       "    </tr>\n",
       "    <tr>\n",
       "      <th>247</th>\n",
       "      <td>248</td>\n",
       "      <td>South Africa</td>\n",
       "      <td>Pretoria</td>\n",
       "      <td>49000000</td>\n",
       "      <td>1219912.0</td>\n",
       "    </tr>\n",
       "    <tr>\n",
       "      <th>248</th>\n",
       "      <td>249</td>\n",
       "      <td>Zambia</td>\n",
       "      <td>Lusaka</td>\n",
       "      <td>13460305</td>\n",
       "      <td>752614.0</td>\n",
       "    </tr>\n",
       "    <tr>\n",
       "      <th>249</th>\n",
       "      <td>250</td>\n",
       "      <td>Zimbabwe</td>\n",
       "      <td>Harare</td>\n",
       "      <td>11651858</td>\n",
       "      <td>390580.0</td>\n",
       "    </tr>\n",
       "  </tbody>\n",
       "</table>\n",
       "<p>250 rows × 5 columns</p>\n",
       "</div>"
      ],
      "text/plain": [
       "    SrNo               country           capital population       area\n",
       "0      1               Andorra  Andorra la Vella      84000      468.0\n",
       "1      2  United Arab Emirates         Abu Dhabi    4975593    82880.0\n",
       "2      3           Afghanistan             Kabul   29121286   647500.0\n",
       "3      4   Antigua and Barbuda        St. John's      86754      443.0\n",
       "4      5              Anguilla        The Valley      13254      102.0\n",
       "..   ...                   ...               ...        ...        ...\n",
       "245  246                 Yemen             Sanaa   23495361   527970.0\n",
       "246  247               Mayotte         Mamoudzou     159042      374.0\n",
       "247  248          South Africa          Pretoria   49000000  1219912.0\n",
       "248  249                Zambia            Lusaka   13460305   752614.0\n",
       "249  250              Zimbabwe            Harare   11651858   390580.0\n",
       "\n",
       "[250 rows x 5 columns]"
      ]
     },
     "execution_count": 8,
     "metadata": {},
     "output_type": "execute_result"
    }
   ],
   "source": [
    "world_countries"
   ]
  },
  {
   "cell_type": "code",
   "execution_count": 9,
   "id": "5a9954be",
   "metadata": {},
   "outputs": [
    {
     "data": {
      "text/html": [
       "<div>\n",
       "<style scoped>\n",
       "    .dataframe tbody tr th:only-of-type {\n",
       "        vertical-align: middle;\n",
       "    }\n",
       "\n",
       "    .dataframe tbody tr th {\n",
       "        vertical-align: top;\n",
       "    }\n",
       "\n",
       "    .dataframe thead th {\n",
       "        text-align: right;\n",
       "    }\n",
       "</style>\n",
       "<table border=\"1\" class=\"dataframe\">\n",
       "  <thead>\n",
       "    <tr style=\"text-align: right;\">\n",
       "      <th></th>\n",
       "      <th>SrNo</th>\n",
       "      <th>country</th>\n",
       "      <th>capital</th>\n",
       "      <th>population</th>\n",
       "      <th>area</th>\n",
       "    </tr>\n",
       "  </thead>\n",
       "  <tbody>\n",
       "    <tr>\n",
       "      <th>104</th>\n",
       "      <td>105</td>\n",
       "      <td>India</td>\n",
       "      <td>New Delhi</td>\n",
       "      <td>1173108018</td>\n",
       "      <td>3287590.0</td>\n",
       "    </tr>\n",
       "  </tbody>\n",
       "</table>\n",
       "</div>"
      ],
      "text/plain": [
       "    SrNo country    capital  population       area\n",
       "104  105   India  New Delhi  1173108018  3287590.0"
      ]
     },
     "execution_count": 9,
     "metadata": {},
     "output_type": "execute_result"
    }
   ],
   "source": [
    "world_countries[world_countries.country == 'India']"
   ]
  },
  {
   "cell_type": "markdown",
   "id": "9ef7212c",
   "metadata": {},
   "source": [
    "### CSV File creation"
   ]
  },
  {
   "cell_type": "code",
   "execution_count": 10,
   "id": "e99a9430",
   "metadata": {},
   "outputs": [],
   "source": [
    "world_countries.to_csv('countries.csv', index=False)  "
   ]
  }
 ],
 "metadata": {
  "kernelspec": {
   "display_name": "Python 3 (ipykernel)",
   "language": "python",
   "name": "python3"
  },
  "language_info": {
   "codemirror_mode": {
    "name": "ipython",
    "version": 3
   },
   "file_extension": ".py",
   "mimetype": "text/x-python",
   "name": "python",
   "nbconvert_exporter": "python",
   "pygments_lexer": "ipython3",
   "version": "3.9.7"
  },
  "toc": {
   "base_numbering": 1,
   "nav_menu": {},
   "number_sections": true,
   "sideBar": true,
   "skip_h1_title": false,
   "title_cell": "Table of Contents",
   "title_sidebar": "Contents",
   "toc_cell": false,
   "toc_position": {},
   "toc_section_display": true,
   "toc_window_display": false
  }
 },
 "nbformat": 4,
 "nbformat_minor": 5
}
