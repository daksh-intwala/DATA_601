{
 "cells": [
  {
   "cell_type": "markdown",
   "id": "425024c2",
   "metadata": {},
   "source": [
    "## Homework 2\n",
    "\n",
    "Please complete the functions below. These functions are for to simulate a fair and a biased die. \n",
    "\n",
    "The biased die has probabilities {0.20, 0.10, 0.15, 0.15, 0.15, 0.25}.\n",
    "\n",
    "Create 2 visualizations that shows outcomes of multiple rolls of a fair die and biased die. \n",
    "* Visualization for fair die\n",
    "* Visualization for biased die\n",
    "\n",
    "Repeat the process programatically and take the mean to create a new list. This list will be used to compare means of biased & unbiased dice. \n",
    "* Create a historgram showing means of biased & unbiased die\n",
    "\n",
    "* Use subcharts\n",
    "* All visualizations must have appropriate titles.\n",
    "* There are 3 visualization and expected format is \n",
    "```\n",
    " [V1] [V2]\n",
    " [   V3  ]\n",
    " ```"
   ]
  },
  {
   "cell_type": "markdown",
   "id": "63b0b1c3",
   "metadata": {},
   "source": [
    "## Fair Die\n",
    "### Outcome Function"
   ]
  },
  {
   "cell_type": "code",
   "execution_count": 2,
   "id": "7078d18a",
   "metadata": {},
   "outputs": [],
   "source": [
    "import random \n",
    "import matplotlib.pyplot as plt\n",
    "\n",
    "trial_count = 500\n",
    "\n",
    "def fair_die_simulation(trials):\n",
    "    \"\"\"\n",
    "    returns an array of randomly numbers between 1 and 6. \n",
    "    \"\"\"\n",
    "    options = [1,2,3,4,5,6]\n",
    "    simulations = []\n",
    "    for i in range(trials):\n",
    "        simulations.append(random.choice(options))\n",
    "        \n",
    "    return simulations\n",
    "\n",
    "\n",
    "### Checking whether it was fair or not\n",
    "#s=fair_die_simulation(trial_count)\n",
    "#count=[x for x in s if x==1]\n",
    "#print(sum(count))"
   ]
  },
  {
   "cell_type": "markdown",
   "id": "a1fa32ec",
   "metadata": {},
   "source": [
    "### Visualizing Fair Die"
   ]
  },
  {
   "cell_type": "code",
   "execution_count": 242,
   "id": "6905da7f",
   "metadata": {},
   "outputs": [
    {
     "data": {
      "text/plain": [
       "Text(0.5, 1.0, 'Histogram Plot for Fair Die Outcomes in 500 trials')"
      ]
     },
     "execution_count": 242,
     "metadata": {},
     "output_type": "execute_result"
    },
    {
     "data": {
      "image/png": "[encoded data removed]",
      "text/plain": [
       "<Figure size 432x288 with 1 Axes>"
      ]
     },
     "metadata": {
      "needs_background": "light"
     },
     "output_type": "display_data"
    }
   ],
   "source": [
    "import matplotlib.pyplot as plt\n",
    "plt.hist(fair_die_simulation(trial_count))\n",
    "plt.xlabel(\"Die Faces\")\n",
    "plt.ylabel(\"Frequency of Faces\")\n",
    "font={'size':16, 'family':'serif'}\n",
    "plt.title(\"Histogram Plot for Fair Die Outcomes in 500 trials\", fontdict=font, pad=16)"
   ]
  },
  {
   "cell_type": "markdown",
   "id": "63cc3085",
   "metadata": {},
   "source": [
    "## Biased Die\n",
    "### Outcome Function"
   ]
  },
  {
   "cell_type": "code",
   "execution_count": 78,
   "id": "5a02e11e",
   "metadata": {},
   "outputs": [],
   "source": [
    "def biased_die_simuations(trials, weights=[0.25, 0.15, 0.15, 0.15, 0.15, 0.15]):\n",
    "    \"\"\"\n",
    "    returns an array of randomly numbers between 1 and 6 with the probabilty of assosiated weight. \n",
    "    for instance: for weights: [0.25, 0.15, 0.15, 0.15, 0.15, 0.15]\n",
    "    1 has 0.25 change to be selected, 2 has 0.15 chance and so on...\n",
    "    \"\"\"\n",
    "    \n",
    "    options = [1,2,3,4,5,6]\n",
    "    simulations = []\n",
    "    \n",
    "    for j in range(trials):\n",
    "        simulations.extend(random.choices(options, weights=weights))\n",
    "        \n",
    "    \n",
    "    return simulations\n",
    "\n",
    "#checking\n",
    "#p=biased_die_simulations(100000)\n",
    "#biased_die_simulations(1000,weights=[25, 15, 15, 15, 15, 15])\n",
    "#count=[x for x in p if x==6]\n",
    "#print(sum(count))\n"
   ]
  },
  {
   "cell_type": "markdown",
   "id": "887e807c",
   "metadata": {},
   "source": [
    "### Visualizing Biased Die"
   ]
  },
  {
   "cell_type": "code",
   "execution_count": 243,
   "id": "46ce0157",
   "metadata": {},
   "outputs": [
    {
     "data": {
      "text/plain": [
       "Text(0.5, 1.0, 'Histogram Plot for Biased Die Outcomes in 500 trials')"
      ]
     },
     "execution_count": 243,
     "metadata": {},
     "output_type": "execute_result"
    },
    {
     "data": {
      "image/png": "[encoded data removed]",
      "text/plain": [
       "<Figure size 432x288 with 1 Axes>"
      ]
     },
     "metadata": {
      "needs_background": "light"
     },
     "output_type": "display_data"
    }
   ],
   "source": [
    "import matplotlib.pyplot as plt\n",
    "plt.hist(biased_die_simuations(trial_count))\n",
    "plt.xlabel(\"Die Faces\")\n",
    "plt.ylabel(\"Frequency of Faces\")\n",
    "font={'size':16, 'family':'serif'}\n",
    "plt.title(\"Histogram Plot for Biased Die Outcomes in 500 trials\", fontdict=font,pad=16)"
   ]
  },
  {
   "cell_type": "markdown",
   "id": "ffc1989f",
   "metadata": {},
   "source": [
    "## Creating Mean Lists Programatically"
   ]
  },
  {
   "cell_type": "code",
   "execution_count": 183,
   "id": "820b8321",
   "metadata": {},
   "outputs": [],
   "source": [
    "import numpy as np\n",
    "biased_mean_list=[]\n",
    "fair_mean_list=[]\n",
    "\n",
    "for i in range(1000):\n",
    "    biased = biased_die_simuations(trial_count)\n",
    "    fair = fair_die_simulation(trial_count)\n",
    "\n",
    "    biased_mean_list.append(np.mean(biased))\n",
    "    fair_mean_list.append(np.mean(fair))\n",
    "    "
   ]
  },
  {
   "cell_type": "markdown",
   "id": "efc4687c",
   "metadata": {},
   "source": [
    "## Histogram Plots of Means- 1000 means, each mean from 500 trials"
   ]
  },
  {
   "cell_type": "markdown",
   "id": "9ca9dcde",
   "metadata": {},
   "source": [
    "## Subcharts"
   ]
  },
  {
   "cell_type": "code",
   "execution_count": 238,
   "id": "02227ca8",
   "metadata": {},
   "outputs": [
    {
     "data": {
      "image/png": "[encoded data removed]",
      "text/plain": [
       "<Figure size 432x288 with 3 Axes>"
      ]
     },
     "metadata": {
      "needs_background": "light"
     },
     "output_type": "display_data"
    }
   ],
   "source": [
    "font={'size':16, 'family':'serif'}\n",
    "\n",
    "\n",
    "plt.figure()\n",
    "\n",
    "plt.subplot(2,2,1)\n",
    "plt.title(\"Histogram for Biased Means\")\n",
    "plt.hist(biased_mean_list)\n",
    "plt.xlabel(\"Means of Outcomes\")\n",
    "plt.ylabel(\"Frequecny of Means\")\n",
    "\n",
    "\n",
    "plt.subplot(2,2,2)\n",
    "plt.hist(fair_mean_list, color='orange')\n",
    "plt.title(\"Histogram for Unbiased Means\")\n",
    "plt.xlabel(\"Means of Outcomes\")\n",
    "plt.ylabel(\"Frequecny of Means\")\n",
    "\n",
    "plt.subplot(2,2, (3,4))\n",
    "plt.hist(biased_mean_list, histtype='step')\n",
    "plt.hist(fair_mean_list, color='orange')\n",
    "plt.title(\"Comparision between biased & unbiased means\", pad=16, fontdict=font)\n",
    "plt.xlabel(\"Means of Outcomes\")\n",
    "plt.ylabel(\"Frequecny of Means\")\n",
    "plt.legend('BU')\n",
    "\n",
    "plt.grid(True)\n",
    "plt.tight_layout()\n",
    "plt.show()"
   ]
  },
  {
   "cell_type": "markdown",
   "id": "1980dbac",
   "metadata": {},
   "source": [
    "Remarks: B represents Biased, U represents Unbiased\n",
    "\n",
    "*Comparision is being made via list of 1000 means where each mean was calculated with 500 trials"
   ]
  },
  {
   "cell_type": "markdown",
   "id": "7c428b8a",
   "metadata": {},
   "source": [
    "References:\n",
    "    1. https://docs.python.org/3/library/random.html\n",
    "    2. https://stackoverflow.com/questions/6541123/improve-subplot-size-spacing-with-many-subplots-in-matplotlib\n",
    "    "
   ]
  }
 ],
 "metadata": {
  "kernelspec": {
   "display_name": "Python 3 (ipykernel)",
   "language": "python",
   "name": "python3"
  },
  "language_info": {
   "codemirror_mode": {
    "name": "ipython",
    "version": 3
   },
   "file_extension": ".py",
   "mimetype": "text/x-python",
   "name": "python",
   "nbconvert_exporter": "python",
   "pygments_lexer": "ipython3",
   "version": "3.9.7"
  },
  "toc": {
   "base_numbering": 1,
   "nav_menu": {},
   "number_sections": true,
   "sideBar": true,
   "skip_h1_title": false,
   "title_cell": "Table of Contents",
   "title_sidebar": "Contents",
   "toc_cell": false,
   "toc_position": {},
   "toc_section_display": true,
   "toc_window_display": false
  }
 },
 "nbformat": 4,
 "nbformat_minor": 5
}
