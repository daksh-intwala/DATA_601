{
 "cells": [
  {
   "cell_type": "markdown",
   "id": "b47b349d",
   "metadata": {},
   "source": [
    "# Homework 4 \n",
    "\n",
    "1. Acquire power data (https://www.bmreports.com/bmrs/?q=demand/rollingsystemdemand/historic) for 7 days (Include each day of the week)\n",
    "\n",
    "1. Create two bar graphs of the power consumption per hour.\n",
    "\n",
    "    * One bar graph has 24 bars showing the average consumption\n",
    "    * One bar graph has 7x24 bars showing the average demand \n",
    "\n",
    "1. Your solution should be committed in your Week04 folder.\n",
    "\n",
    "Graphs must have appropriate labels and there should not be anything extra cluttering. "
   ]
  },
  {
   "cell_type": "code",
   "execution_count": 1,
   "id": "0913937a",
   "metadata": {},
   "outputs": [
    {
     "name": "stdout",
     "output_type": "stream",
     "text": [
      "Python 3.9.7\r\n"
     ]
    }
   ],
   "source": [
    "!python --version"
   ]
  },
  {
   "cell_type": "code",
   "execution_count": 3,
   "id": "ba276b3d",
   "metadata": {},
   "outputs": [],
   "source": [
    "import pandas as pd"
   ]
  },
  {
   "cell_type": "code",
   "execution_count": 6,
   "id": "934d19e5",
   "metadata": {},
   "outputs": [
    {
     "data": {
      "text/plain": [
       "'1.3.4'"
      ]
     },
     "execution_count": 6,
     "metadata": {},
     "output_type": "execute_result"
    }
   ],
   "source": [
    "pd.__version__"
   ]
  },
  {
   "cell_type": "code",
   "execution_count": 7,
   "id": "359b72ed",
   "metadata": {},
   "outputs": [],
   "source": [
    "df = pd.read_csv(\"/Users/dakshintwala/Downloads/RollingSystemDemand_20220301_2116.csv\")"
   ]
  },
  {
   "cell_type": "code",
   "execution_count": 8,
   "id": "63786a96",
   "metadata": {},
   "outputs": [
    {
     "name": "stdout",
     "output_type": "stream",
     "text": [
      "<class 'pandas.core.frame.DataFrame'>\n",
      "Index: 2001 entries, VD to FTR\n",
      "Data columns (total 2 columns):\n",
      " #   Column                 Non-Null Count  Dtype  \n",
      "---  ------                 --------------  -----  \n",
      " 0   HDR                    2001 non-null   int64  \n",
      " 1   ROLLING SYSTEM DEMAND  2000 non-null   float64\n",
      "dtypes: float64(1), int64(1)\n",
      "memory usage: 46.9+ KB\n"
     ]
    }
   ],
   "source": [
    "df.info()"
   ]
  },
  {
   "cell_type": "code",
   "execution_count": 9,
   "id": "98c6770e",
   "metadata": {},
   "outputs": [
    {
     "data": {
      "text/html": [
       "<div>\n",
       "<style scoped>\n",
       "    .dataframe tbody tr th:only-of-type {\n",
       "        vertical-align: middle;\n",
       "    }\n",
       "\n",
       "    .dataframe tbody tr th {\n",
       "        vertical-align: top;\n",
       "    }\n",
       "\n",
       "    .dataframe thead th {\n",
       "        text-align: right;\n",
       "    }\n",
       "</style>\n",
       "<table border=\"1\" class=\"dataframe\">\n",
       "  <thead>\n",
       "    <tr style=\"text-align: right;\">\n",
       "      <th></th>\n",
       "      <th>HDR</th>\n",
       "      <th>ROLLING SYSTEM DEMAND</th>\n",
       "    </tr>\n",
       "  </thead>\n",
       "  <tbody>\n",
       "    <tr>\n",
       "      <th>VD</th>\n",
       "      <td>20200101000000</td>\n",
       "      <td>27007.0</td>\n",
       "    </tr>\n",
       "    <tr>\n",
       "      <th>VD</th>\n",
       "      <td>20200101000500</td>\n",
       "      <td>27044.0</td>\n",
       "    </tr>\n",
       "    <tr>\n",
       "      <th>VD</th>\n",
       "      <td>20200101001000</td>\n",
       "      <td>27095.0</td>\n",
       "    </tr>\n",
       "    <tr>\n",
       "      <th>VD</th>\n",
       "      <td>20200101001500</td>\n",
       "      <td>27100.0</td>\n",
       "    </tr>\n",
       "    <tr>\n",
       "      <th>VD</th>\n",
       "      <td>20200101002000</td>\n",
       "      <td>27160.0</td>\n",
       "    </tr>\n",
       "  </tbody>\n",
       "</table>\n",
       "</div>"
      ],
      "text/plain": [
       "               HDR  ROLLING SYSTEM DEMAND\n",
       "VD  20200101000000                27007.0\n",
       "VD  20200101000500                27044.0\n",
       "VD  20200101001000                27095.0\n",
       "VD  20200101001500                27100.0\n",
       "VD  20200101002000                27160.0"
      ]
     },
     "execution_count": 9,
     "metadata": {},
     "output_type": "execute_result"
    }
   ],
   "source": [
    "df.head()"
   ]
  },
  {
   "cell_type": "markdown",
   "id": "5e4cfa90",
   "metadata": {},
   "source": [
    "### Separting columns"
   ]
  },
  {
   "cell_type": "code",
   "execution_count": 10,
   "id": "1e48de75",
   "metadata": {},
   "outputs": [],
   "source": [
    "df['time']=df['HDR']"
   ]
  },
  {
   "cell_type": "code",
   "execution_count": 11,
   "id": "ad17d2e8",
   "metadata": {},
   "outputs": [],
   "source": [
    "df['time']=df['time'].astype(str).str[-6:]"
   ]
  },
  {
   "cell_type": "code",
   "execution_count": 12,
   "id": "57345768",
   "metadata": {},
   "outputs": [],
   "source": [
    "df['HDR']=df['HDR'].astype(str).str[0:8]"
   ]
  },
  {
   "cell_type": "code",
   "execution_count": 13,
   "id": "065f2bfa",
   "metadata": {},
   "outputs": [],
   "source": [
    "df['hours']= df['time'].astype(str).str[:2]"
   ]
  },
  {
   "cell_type": "code",
   "execution_count": 14,
   "id": "3dfb2d29",
   "metadata": {},
   "outputs": [],
   "source": [
    "df['date'] = df['HDR'].astype(str).str[-2:]"
   ]
  },
  {
   "cell_type": "code",
   "execution_count": 15,
   "id": "d7c23d26",
   "metadata": {},
   "outputs": [
    {
     "data": {
      "text/html": [
       "<div>\n",
       "<style scoped>\n",
       "    .dataframe tbody tr th:only-of-type {\n",
       "        vertical-align: middle;\n",
       "    }\n",
       "\n",
       "    .dataframe tbody tr th {\n",
       "        vertical-align: top;\n",
       "    }\n",
       "\n",
       "    .dataframe thead th {\n",
       "        text-align: right;\n",
       "    }\n",
       "</style>\n",
       "<table border=\"1\" class=\"dataframe\">\n",
       "  <thead>\n",
       "    <tr style=\"text-align: right;\">\n",
       "      <th></th>\n",
       "      <th>HDR</th>\n",
       "      <th>ROLLING SYSTEM DEMAND</th>\n",
       "      <th>time</th>\n",
       "      <th>hours</th>\n",
       "      <th>date</th>\n",
       "    </tr>\n",
       "  </thead>\n",
       "  <tbody>\n",
       "    <tr>\n",
       "      <th>VD</th>\n",
       "      <td>20200107</td>\n",
       "      <td>28794.0</td>\n",
       "      <td>222000</td>\n",
       "      <td>22</td>\n",
       "      <td>07</td>\n",
       "    </tr>\n",
       "    <tr>\n",
       "      <th>VD</th>\n",
       "      <td>20200107</td>\n",
       "      <td>28389.0</td>\n",
       "      <td>222500</td>\n",
       "      <td>22</td>\n",
       "      <td>07</td>\n",
       "    </tr>\n",
       "    <tr>\n",
       "      <th>VD</th>\n",
       "      <td>20200107</td>\n",
       "      <td>28385.0</td>\n",
       "      <td>223000</td>\n",
       "      <td>22</td>\n",
       "      <td>07</td>\n",
       "    </tr>\n",
       "    <tr>\n",
       "      <th>VD</th>\n",
       "      <td>20200107</td>\n",
       "      <td>28315.0</td>\n",
       "      <td>223500</td>\n",
       "      <td>22</td>\n",
       "      <td>07</td>\n",
       "    </tr>\n",
       "    <tr>\n",
       "      <th>FTR</th>\n",
       "      <td>2000</td>\n",
       "      <td>NaN</td>\n",
       "      <td>2000</td>\n",
       "      <td>20</td>\n",
       "      <td>00</td>\n",
       "    </tr>\n",
       "  </tbody>\n",
       "</table>\n",
       "</div>"
      ],
      "text/plain": [
       "          HDR  ROLLING SYSTEM DEMAND    time hours date\n",
       "VD   20200107                28794.0  222000    22   07\n",
       "VD   20200107                28389.0  222500    22   07\n",
       "VD   20200107                28385.0  223000    22   07\n",
       "VD   20200107                28315.0  223500    22   07\n",
       "FTR      2000                    NaN    2000    20   00"
      ]
     },
     "execution_count": 15,
     "metadata": {},
     "output_type": "execute_result"
    }
   ],
   "source": [
    "df.tail()"
   ]
  },
  {
   "cell_type": "code",
   "execution_count": 16,
   "id": "7d924e7b",
   "metadata": {},
   "outputs": [
    {
     "name": "stdout",
     "output_type": "stream",
     "text": [
      "<class 'pandas.core.frame.DataFrame'>\n",
      "Index: 2001 entries, VD to FTR\n",
      "Data columns (total 5 columns):\n",
      " #   Column                 Non-Null Count  Dtype  \n",
      "---  ------                 --------------  -----  \n",
      " 0   HDR                    2001 non-null   object \n",
      " 1   ROLLING SYSTEM DEMAND  2000 non-null   float64\n",
      " 2   time                   2001 non-null   object \n",
      " 3   hours                  2001 non-null   object \n",
      " 4   date                   2001 non-null   object \n",
      "dtypes: float64(1), object(4)\n",
      "memory usage: 93.8+ KB\n"
     ]
    }
   ],
   "source": [
    "df.info()"
   ]
  },
  {
   "cell_type": "code",
   "execution_count": 17,
   "id": "23faeda9",
   "metadata": {},
   "outputs": [],
   "source": [
    "import matplotlib.pyplot as plt"
   ]
  },
  {
   "cell_type": "markdown",
   "id": "88992dc8",
   "metadata": {},
   "source": [
    "### One bar graph has 24 bars showing the average consumption"
   ]
  },
  {
   "cell_type": "code",
   "execution_count": 18,
   "id": "27ff6f6d",
   "metadata": {},
   "outputs": [
    {
     "data": {
      "text/plain": [
       "<pandas.core.groupby.generic.DataFrameGroupBy object at 0x7fcad2e271c0>"
      ]
     },
     "execution_count": 18,
     "metadata": {},
     "output_type": "execute_result"
    }
   ],
   "source": [
    "groupedby_hours = df.groupby(by='hours')\n",
    "groupedby_hours"
   ]
  },
  {
   "cell_type": "code",
   "execution_count": 19,
   "id": "8c0b291c",
   "metadata": {},
   "outputs": [
    {
     "name": "stdout",
     "output_type": "stream",
     "text": [
      "['00', '01', '02', '03', '04', '05', '06', '07', '08', '09', '10', '11', '12', '13', '14', '15', '16', '17', '18', '19', '20', '21', '22', '23']\n",
      "[25946.809523809523, 25854.97619047619, 25440.47619047619, 24971.29761904762, 24603.404761904763, 24828.464285714286, 27303.79761904762, 30144.27380952381, 32284.89285714286, 33938.75, 34820.32142857143, 35319.94047619047, 35730.26190476191, 35925.09523809524, 36102.65476190476, 36873.45238095238, 39327.04761904762, 40924.583333333336, 39984.95238095238, 38165.07142857143, 35544.65476190476, 32394.60714285714, 29140.625, 26376.069444444445]\n"
     ]
    }
   ],
   "source": [
    "hourly_avg = []\n",
    "hours=[]\n",
    "for key, values in groupedby_hours:\n",
    "    hours.append(key)\n",
    "    hourly_avg.append(values['ROLLING SYSTEM DEMAND'].mean())\n",
    "print(hours)\n",
    "print(hourly_avg)"
   ]
  },
  {
   "cell_type": "code",
   "execution_count": 20,
   "id": "f4d53d7b",
   "metadata": {},
   "outputs": [
    {
     "data": {
      "image/png": "[encoded data removed]",
      "text/plain": [
       "<Figure size 1440x576 with 1 Axes>"
      ]
     },
     "metadata": {
      "needs_background": "light"
     },
     "output_type": "display_data"
    }
   ],
   "source": [
    "font={'size': 20, 'family':'serif'}\n",
    "font1={'size': 16, 'family':'serif'}\n",
    "\n",
    "\n",
    "fig = plt.figure(figsize=(20,8))\n",
    "plt.bar(hours, hourly_avg)\n",
    "plt.xlabel(\"Hours\", fontdict=font1)\n",
    "plt.ylabel(\"Demand Values\", fontdict=font1)\n",
    "plt.xticks(rotation = 45)\n",
    "plt.title('24bars avg hourly consumption of 7days (01/01/21 - 01/07/21)', fontdict=font )\n",
    "plt.show()"
   ]
  },
  {
   "cell_type": "markdown",
   "id": "06715d31",
   "metadata": {},
   "source": [
    "### One bar graph has 7x24 bars showing the average demand"
   ]
  },
  {
   "cell_type": "code",
   "execution_count": 36,
   "id": "0fe6ad37",
   "metadata": {},
   "outputs": [],
   "source": [
    "xax = list(range(168))"
   ]
  },
  {
   "cell_type": "code",
   "execution_count": 64,
   "id": "989e6a08",
   "metadata": {},
   "outputs": [
    {
     "name": "stdout",
     "output_type": "stream",
     "text": [
      "00\n",
      "hours\n",
      "20   NaN\n",
      "Name: ROLLING SYSTEM DEMAND, dtype: float64\n",
      "01\n",
      "hours\n",
      "00    27339.083333\n",
      "01    26886.416667\n",
      "02    25677.500000\n",
      "03    24936.583333\n",
      "04    23858.500000\n",
      "05    23881.750000\n",
      "06    24822.166667\n",
      "07    25178.083333\n",
      "08    25810.916667\n",
      "09    27900.666667\n",
      "10    29974.916667\n",
      "11    31388.416667\n",
      "12    33039.416667\n",
      "13    33556.500000\n",
      "14    33936.250000\n",
      "15    34720.750000\n",
      "16    36567.000000\n",
      "17    37749.750000\n",
      "18    36410.833333\n",
      "19    34800.000000\n",
      "20    32782.750000\n",
      "21    30426.333333\n",
      "22    27870.333333\n",
      "23    24594.833333\n",
      "Name: ROLLING SYSTEM DEMAND, dtype: float64\n",
      "02\n",
      "hours\n",
      "00    23890.166667\n",
      "01    23791.166667\n",
      "02    23924.750000\n",
      "03    23934.750000\n",
      "04    24399.833333\n",
      "05    24692.000000\n",
      "06    27589.500000\n",
      "07    31446.416667\n",
      "08    33822.833333\n",
      "09    35100.166667\n",
      "10    35759.500000\n",
      "11    36337.333333\n",
      "12    36946.083333\n",
      "13    36881.833333\n",
      "14    37067.250000\n",
      "15    38020.083333\n",
      "16    39894.916667\n",
      "17    41159.916667\n",
      "18    40178.250000\n",
      "19    38275.000000\n",
      "20    35366.333333\n",
      "21    31799.250000\n",
      "22    28909.416667\n",
      "23    26478.166667\n",
      "Name: ROLLING SYSTEM DEMAND, dtype: float64\n",
      "03\n",
      "hours\n",
      "00    25838.250000\n",
      "01    26161.333333\n",
      "02    25774.166667\n",
      "03    25288.666667\n",
      "04    24182.166667\n",
      "05    24222.500000\n",
      "06    27423.833333\n",
      "07    31532.750000\n",
      "08    34921.250000\n",
      "09    37128.166667\n",
      "10    37327.416667\n",
      "11    36949.833333\n",
      "12    36845.250000\n",
      "13    36216.583333\n",
      "14    36343.666667\n",
      "15    37514.166667\n",
      "16    40416.833333\n",
      "17    42773.916667\n",
      "18    41776.250000\n",
      "19    39896.750000\n",
      "20    36731.916667\n",
      "21    33382.750000\n",
      "22    30029.083333\n",
      "23    27890.666667\n",
      "Name: ROLLING SYSTEM DEMAND, dtype: float64\n",
      "04\n",
      "hours\n",
      "00    27276.833333\n",
      "01    26799.916667\n",
      "02    26055.083333\n",
      "03    25829.416667\n",
      "04    25462.666667\n",
      "05    25145.250000\n",
      "06    26217.583333\n",
      "07    27065.166667\n",
      "08    29392.416667\n",
      "09    31804.750000\n",
      "10    33248.250000\n",
      "11    33666.916667\n",
      "12    33424.666667\n",
      "13    33261.750000\n",
      "14    33408.500000\n",
      "15    34539.416667\n",
      "16    37324.166667\n",
      "17    39232.166667\n",
      "18    38775.500000\n",
      "19    37180.583333\n",
      "20    34892.083333\n",
      "21    32343.333333\n",
      "22    29320.666667\n",
      "23    26658.166667\n",
      "Name: ROLLING SYSTEM DEMAND, dtype: float64\n",
      "05\n",
      "hours\n",
      "00    25714.583333\n",
      "01    25415.333333\n",
      "02    24595.583333\n",
      "03    23427.166667\n",
      "04    23529.416667\n",
      "05    23632.750000\n",
      "06    24550.666667\n",
      "07    25675.083333\n",
      "08    27627.250000\n",
      "09    29958.416667\n",
      "10    31744.333333\n",
      "11    32939.750000\n",
      "12    34046.916667\n",
      "13    34241.583333\n",
      "14    34672.083333\n",
      "15    35707.000000\n",
      "16    38383.833333\n",
      "17    40034.000000\n",
      "18    38887.333333\n",
      "19    36908.416667\n",
      "20    34457.000000\n",
      "21    31561.166667\n",
      "22    28319.000000\n",
      "23    25491.750000\n",
      "Name: ROLLING SYSTEM DEMAND, dtype: float64\n",
      "06\n",
      "hours\n",
      "00    25314.333333\n",
      "01    25377.083333\n",
      "02    25722.750000\n",
      "03    25478.666667\n",
      "04    25787.833333\n",
      "05    26857.916667\n",
      "06    30481.166667\n",
      "07    34560.750000\n",
      "08    36878.333333\n",
      "09    38028.166667\n",
      "10    38127.500000\n",
      "11    38234.500000\n",
      "12    37648.583333\n",
      "13    38613.416667\n",
      "14    38681.250000\n",
      "15    39176.500000\n",
      "16    41710.666667\n",
      "17    43597.000000\n",
      "18    43102.583333\n",
      "19    41377.500000\n",
      "20    38833.750000\n",
      "21    34889.416667\n",
      "22    30487.500000\n",
      "23    27142.833333\n",
      "Name: ROLLING SYSTEM DEMAND, dtype: float64\n",
      "07\n",
      "hours\n",
      "00    26254.416667\n",
      "01    26553.583333\n",
      "02    26333.500000\n",
      "03    25903.833333\n",
      "04    25003.416667\n",
      "05    25367.083333\n",
      "06    30041.666667\n",
      "07    35551.666667\n",
      "08    37541.250000\n",
      "09    37650.916667\n",
      "10    37560.333333\n",
      "11    37722.833333\n",
      "12    38160.916667\n",
      "13    38704.000000\n",
      "14    38609.583333\n",
      "15    38436.250000\n",
      "16    40991.916667\n",
      "17    41925.333333\n",
      "18    40763.916667\n",
      "19    38717.250000\n",
      "20    35748.750000\n",
      "21    32360.000000\n",
      "22    29002.250000\n",
      "Name: ROLLING SYSTEM DEMAND, dtype: float64\n"
     ]
    }
   ],
   "source": [
    "groupedby_days_hours = df.groupby(['date'])\n",
    "yax=[]\n",
    "for key, values in groupedby_days:\n",
    "    print(key)\n",
    "    print(values.groupby('hours')['ROLLING SYSTEM DEMAND'].mean())\n",
    "    yax.extend(values.groupby('hours')['ROLLING SYSTEM DEMAND'].mean())\n",
    "    "
   ]
  },
  {
   "cell_type": "code",
   "execution_count": 67,
   "id": "adb2b1bc",
   "metadata": {},
   "outputs": [],
   "source": [
    "# for setting x-axis labels\n",
    "name_hours=[]\n",
    "for i in range(7):\n",
    "    name_hours.extend(list(range(24)))\n"
   ]
  },
  {
   "cell_type": "code",
   "execution_count": 66,
   "id": "c740f26d",
   "metadata": {},
   "outputs": [
    {
     "data": {
      "image/png": "[encoded data removed]",
      "text/plain": [
       "<Figure size 3600x576 with 1 Axes>"
      ]
     },
     "metadata": {
      "needs_background": "light"
     },
     "output_type": "display_data"
    }
   ],
   "source": [
    "\n",
    "fig = plt.figure(figsize=(50,8))\n",
    "plt.bar(xax, yax)\n",
    "plt.xlabel(\"Countinous Hours\", fontdict=font1)\n",
    "plt.ylabel(\"Demand Values\", fontdict=font1)\n",
    "plt.xticks(xax, name_hours,rotation = 45)\n",
    "plt.title('7*24bars consumption of 7days (01/01/21 - 01/07/21)', fontdict=font )\n",
    "plt.show()"
   ]
  },
  {
   "cell_type": "code",
   "execution_count": null,
   "id": "76f5f8cf",
   "metadata": {},
   "outputs": [],
   "source": []
  }
 ],
 "metadata": {
  "kernelspec": {
   "display_name": "Python 3 (ipykernel)",
   "language": "python",
   "name": "python3"
  },
  "language_info": {
   "codemirror_mode": {
    "name": "ipython",
    "version": 3
   },
   "file_extension": ".py",
   "mimetype": "text/x-python",
   "name": "python",
   "nbconvert_exporter": "python",
   "pygments_lexer": "ipython3",
   "version": "3.9.7"
  },
  "toc": {
   "base_numbering": 1,
   "nav_menu": {},
   "number_sections": true,
   "sideBar": true,
   "skip_h1_title": false,
   "title_cell": "Table of Contents",
   "title_sidebar": "Contents",
   "toc_cell": false,
   "toc_position": {},
   "toc_section_display": true,
   "toc_window_display": false
  }
 },
 "nbformat": 4,
 "nbformat_minor": 5
}
