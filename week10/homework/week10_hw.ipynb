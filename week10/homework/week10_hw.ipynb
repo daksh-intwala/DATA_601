{
 "cells": [
  {
   "cell_type": "markdown",
   "metadata": {},
   "source": [
    "# Week 10 Homework\n",
    "\n",
    "Extend the following class and name this class `ModuleLister`\n",
    "\n",
    "This will find all unique modules in your homework and labs."
   ]
  },
  {
   "cell_type": "code",
   "execution_count": 4,
   "metadata": {},
   "outputs": [],
   "source": [
    "### DON'T CHANGE THIS CELL\n",
    "import os\n",
    "\n",
    "class FileProcessor:\n",
    "    \n",
    "    def __init__(self, path, file_types=['.ipynb']):\n",
    "        self.files = self.find_all_files(path, file_types)\n",
    "        print(f'{len(self.files)} file(s) found...')\n",
    "\n",
    "    \n",
    "    def find_all_files(self, path, file_types):\n",
    "        paths = []\n",
    "        for root, dirs, files in os.walk(path):\n",
    "            for file in files:\n",
    "                if any([file.endswith(ft) for ft in file_types]):\n",
    "                    path = os.path.join(root, file)\n",
    "                    # print(path)\n",
    "                    paths.append(path)\n",
    "        return paths\n",
    "    \n",
    "    def read_file(self, file_path, encoding='utf8'):\n",
    "        with open(file_path,encoding=encoding) as f:\n",
    "            return f.read()\n",
    "    \n",
    "    def start(self):\n",
    "        \"\"\"\n",
    "        Entry point for the class\n",
    "        \"\"\"\n",
    "        for file in self.files:\n",
    "            self.process_file(file)\n",
    "        \n",
    "    def process_file(self, file_path):\n",
    "        \"\"\"\n",
    "        abstract method\n",
    "        \"\"\"\n",
    "        raise NotImplemented('process_file method not implemented')"
   ]
  },
  {
   "cell_type": "code",
   "execution_count": 146,
   "metadata": {},
   "outputs": [
    {
     "name": "stdout",
     "output_type": "stream",
     "text": [
      "**Developer's Note:\n",
      "ModuleLister automatically omits checkpoint files.\n",
      "For getting checkpoint files with results, use object.including_checkpoints().**\n",
      "\n",
      "28 file(s) found...\n"
     ]
    }
   ],
   "source": [
    "### your code starts here\n",
    "import re\n",
    "\n",
    "class ModuleLister(FileProcessor):\n",
    "    count_processed_files = 0\n",
    "    def process_file(self, file_path):\n",
    "        if '-checkpoint' in file_path:\n",
    "            return None\n",
    "        else: \n",
    "            self.count_processed_files +=1\n",
    "            content = FileProcessor.read_file(self,file_path)\n",
    "            ls = re.findall('(?:import )(\\w+)', content)\n",
    "            ModuleLister.check_comments(ls)\n",
    "            ls = set(ls)\n",
    "            if len(ls)==0:\n",
    "                print(f'{ls} This file has no modules used in it. source: {file_path}')\n",
    "            else: print(ls)\n",
    "            return ls\n",
    "       \n",
    "    \n",
    "    #check comments\n",
    "    def check_comments(ls):\n",
    "        for i in ls:\n",
    "            if '#' in i:\n",
    "                ls.remove(i)\n",
    "                          \n",
    "    # checkpoint file check\n",
    "    def including_checkpoints(self):\n",
    "        self.count_processed_files=0\n",
    "        print(len(self.files))\n",
    "        for file in self.files:\n",
    "            self.count_processed_files +=1\n",
    "            content = FileProcessor.read_file(self,file)\n",
    "            ls = re.findall('(?:import )(\\w+)', content)\n",
    "            ModuleLister.check_comments(ls)\n",
    "            ls = set(ls)\n",
    "            if len(ls)==0:\n",
    "                print(f'{ls} This file has no modules used in it. source: {file}')\n",
    "            else: print(ls)\n",
    "       \n",
    "    print(\"**Developer's Note:\\nModuleLister automatically omits checkpoint files.\\nFor getting checkpoint files with results, use object.including_checkpoints().**\\n\")\n",
    "    pass\n",
    "\n",
    "processor = ModuleLister(path= '/Users/dakshintwala/github_temp/DATA_601')"
   ]
  },
  {
   "cell_type": "code",
   "execution_count": 137,
   "metadata": {},
   "outputs": [
    {
     "name": "stdout",
     "output_type": "stream",
     "text": [
      "set() This file has no modules used in it. source: /Users/dakshintwala/github_temp/DATA_601/week01/HW-01.ipynb\n",
      "{'csv', 'urllib', 'pandas', 'chardet', 'ZipFile', 'string', 'matplotlib'}\n",
      "{'Counter', 'request', 'chardet', 'ZipFile', 'seaborn', 'matplotlib'}\n",
      "{'re', 'data', 'pandas'}\n",
      "{'re', 'pandas', 'datetime'}\n",
      "{'pandas', 'matplotlib'}\n",
      "{'seed', 'phonenumbers', 'pandas', 'normal', 'Faker', 'seaborn', 'internet', 'matplotlib'}\n",
      "{'seaborn', 'pandas', 'matplotlib'}\n",
      "{'seaborn', 'ProfileReport', 'pandas', 'matplotlib'}\n",
      "{'pandas', 'matplotlib'}\n",
      "{'random', 'numpy', 'matplotlib'}\n",
      "{'pandas'}\n",
      "{'array', 'random', 'date', 're'}\n",
      "{'pandas'}\n",
      "{'pandas', 'matplotlib'}\n",
      "{'numpy', 'request', 'stats', 'pandas', 'skew', 'warnings', 'seaborn', 'matplotlib', 'datetime'}\n"
     ]
    }
   ],
   "source": [
    "processor.start()"
   ]
  },
  {
   "cell_type": "markdown",
   "metadata": {},
   "source": [
    "## Extra"
   ]
  },
  {
   "cell_type": "code",
   "execution_count": 138,
   "metadata": {},
   "outputs": [
    {
     "data": {
      "text/plain": [
       "16"
      ]
     },
     "execution_count": 138,
     "metadata": {},
     "output_type": "execute_result"
    }
   ],
   "source": [
    "processor.count_processed_files"
   ]
  },
  {
   "cell_type": "code",
   "execution_count": 147,
   "metadata": {},
   "outputs": [
    {
     "name": "stdout",
     "output_type": "stream",
     "text": [
      "28\n",
      "set() This file has no modules used in it. source: /Users/dakshintwala/github_temp/DATA_601/week01/HW-01.ipynb\n",
      "{'csv', 'urllib', 'pandas', 'chardet', 'ZipFile', 'string', 'matplotlib'}\n",
      "{'csv', 'urllib', 'pandas', 'chardet', 'ZipFile', 'string', 'matplotlib'}\n",
      "{'Counter', 'request', 'chardet', 'ZipFile', 'seaborn', 'matplotlib'}\n",
      "{'re', 'data', 'pandas'}\n",
      "{'re', 'pandas', 'datetime'}\n",
      "{'pandas', 'matplotlib'}\n",
      "{'pandas', 'matplotlib'}\n",
      "{'seed', 'phonenumbers', 'pandas', 'normal', 'Faker', 'seaborn', 'internet', 'matplotlib'}\n",
      "{'seaborn', 'pandas', 'matplotlib'}\n",
      "{'seaborn', 'pandas', 'matplotlib'}\n",
      "{'seaborn', 'ProfileReport', 'pandas', 'matplotlib'}\n",
      "{'seaborn', 'ProfileReport', 'pandas', 'matplotlib'}\n",
      "{'pandas', 'matplotlib'}\n",
      "{'pandas', 'matplotlib'}\n",
      "{'random', 'numpy', 'matplotlib'}\n",
      "{'random', 'matplotlib'}\n",
      "{'random', 'numpy', 'matplotlib'}\n",
      "{'pandas'}\n",
      "{'pandas'}\n",
      "{'array', 'random', 'date', 're'}\n",
      "{'pandas'}\n",
      "{'pandas'}\n",
      "{'pandas', 'matplotlib'}\n",
      "{'pandas', 'matplotlib'}\n",
      "set() This file has no modules used in it. source: /Users/dakshintwala/github_temp/DATA_601/week10/lab/.ipynb_checkpoints/week10-lab-checkpoint.ipynb\n",
      "{'re', 'os', 'lines'}\n",
      "{'numpy', 'request', 'stats', 'pandas', 'skew', 'warnings', 'seaborn', 'matplotlib', 'datetime'}\n"
     ]
    }
   ],
   "source": [
    "processor.including_checkpoints()"
   ]
  },
  {
   "cell_type": "code",
   "execution_count": null,
   "metadata": {},
   "outputs": [],
   "source": []
  }
 ],
 "metadata": {
  "kernelspec": {
   "display_name": "Python 3 (ipykernel)",
   "language": "python",
   "name": "python3"
  },
  "language_info": {
   "codemirror_mode": {
    "name": "ipython",
    "version": 3
   },
   "file_extension": ".py",
   "mimetype": "text/x-python",
   "name": "python",
   "nbconvert_exporter": "python",
   "pygments_lexer": "ipython3",
   "version": "3.9.7"
  },
  "toc": {
   "base_numbering": 1,
   "nav_menu": {},
   "number_sections": true,
   "sideBar": true,
   "skip_h1_title": false,
   "title_cell": "Table of Contents",
   "title_sidebar": "Contents",
   "toc_cell": false,
   "toc_position": {},
   "toc_section_display": true,
   "toc_window_display": false
  },
  "varInspector": {
   "cols": {
    "lenName": 16,
    "lenType": 16,
    "lenVar": 40
   },
   "kernels_config": {
    "python": {
     "delete_cmd_postfix": "",
     "delete_cmd_prefix": "del ",
     "library": "var_list.py",
     "varRefreshCmd": "print(var_dic_list())"
    },
    "r": {
     "delete_cmd_postfix": ") ",
     "delete_cmd_prefix": "rm(",
     "library": "var_list.r",
     "varRefreshCmd": "cat(var_dic_list()) "
    }
   },
   "types_to_exclude": [
    "module",
    "function",
    "builtin_function_or_method",
    "instance",
    "_Feature"
   ],
   "window_display": false
  }
 },
 "nbformat": 4,
 "nbformat_minor": 2
}
